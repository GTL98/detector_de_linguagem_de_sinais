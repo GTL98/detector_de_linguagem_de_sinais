{
 "cells": [
  {
   "cell_type": "markdown",
   "metadata": {},
   "source": [
    "***Esse documento é para ser usado somente para ver como a IA funciona, para entender a lógica e a construção por trás da IA veja o README.md e o arquivo Detector (Lógica)***"
   ]
  },
  {
   "cell_type": "code",
   "execution_count": 1,
   "metadata": {},
   "outputs": [],
   "source": [
    "import cv2\n",
    "import numpy as np\n",
    "import os\n",
    "import mediapipe as mp"
   ]
  },
  {
   "cell_type": "code",
   "execution_count": 2,
   "metadata": {},
   "outputs": [],
   "source": [
    "mp_holistico = mp.solutions.holistic\n",
    "mp_desenho = mp.solutions.drawing_utils"
   ]
  },
  {
   "cell_type": "code",
   "execution_count": 3,
   "metadata": {},
   "outputs": [],
   "source": [
    "def deteccao_mediapipe(imagem, modelo):\n",
    "    imagem = cv2.cvtColor(imagem, cv2.COLOR_BGR2RGB)\n",
    "    imagem.flags.writeable = False\n",
    "    resultados = modelo.process(imagem)\n",
    "    imagem.flags.writeable = True\n",
    "    imagem = cv2.cvtColor(imagem, cv2.COLOR_RGB2BGR)\n",
    "    return imagem, resultados"
   ]
  },
  {
   "cell_type": "code",
   "execution_count": 4,
   "metadata": {},
   "outputs": [],
   "source": [
    "def desenhar_landmarks(imagem, resultados):\n",
    "    # Desenhar as conexões do rosto\n",
    "    mp_desenho.draw_landmarks(imagem, resultados.face_landmarks, mp_holistico.FACEMESH_CONTOURS,\n",
    "                             mp_desenho.DrawingSpec(color=(80, 110 ,10), thickness=1, circle_radius=1),\n",
    "                             mp_desenho.DrawingSpec(color=(80, 255, 121), thickness=1, circle_radius=1))\n",
    "    \n",
    "    # Desenhar as conexões do tronco\n",
    "    mp_desenho.draw_landmarks(imagem, resultados.pose_landmarks, mp_holistico.POSE_CONNECTIONS,\n",
    "                             mp_desenho.DrawingSpec(color=(80, 22, 10), thickness=2, circle_radius=4),\n",
    "                             mp_desenho.DrawingSpec(color=(80, 44, 121), thickness=2, circle_radius=2))\n",
    "    \n",
    "    # Desenhar as conexões da mão esquerda\n",
    "    mp_desenho.draw_landmarks(imagem, resultados.left_hand_landmarks, mp_holistico.HAND_CONNECTIONS,\n",
    "                             mp_desenho.DrawingSpec(color=(121, 22, 76), thickness=2, circle_radius=4),\n",
    "                             mp_desenho.DrawingSpec(color=(121, 44, 250), thickness=2, circle_radius=2))\n",
    "    \n",
    "    # Desenhar as conexões da mão direita\n",
    "    mp_desenho.draw_landmarks(imagem, resultados.right_hand_landmarks, mp_holistico.HAND_CONNECTIONS,\n",
    "                             mp_desenho.DrawingSpec(color=(245, 117, 66), thickness=2, circle_radius=4),\n",
    "                             mp_desenho.DrawingSpec(color=(245, 66, 230), thickness=2, circle_radius=2))"
   ]
  },
  {
   "cell_type": "code",
   "execution_count": 5,
   "metadata": {},
   "outputs": [],
   "source": [
    "def extrair_pontos_chaves(resultados):\n",
    "    # Condição para pose_landmarks\n",
    "    pose = np.array([[res.x, res.y, res.z, res.visibility] for res in resultados.pose_landmarks.landmark]).flatten() if resultados.pose_landmarks else np.zeros(132)\n",
    "\n",
    "    # Condição para face_landmarks\n",
    "    rosto = np.array([[res.x, res.y, res.z] for res in resultados.face_landmarks.landmark]).flatten() if resultados.face_landmarks else np.zeros(1404)\n",
    "\n",
    "    # Condição para left_hand_landmarks\n",
    "    esquerda = np.array([[res.x, res.y, res.z] for res in resultados.left_hand_landmarks.landmark]).flatten() if resultados.left_hand_landmarks else np.zeros(63)\n",
    "\n",
    "\n",
    "    # Condição para right_hand_landmarks\n",
    "    direita = np.array([[res.x, res.y, res.z] for res in resultados.right_hand_landmarks.landmark]).flatten() if resultados.right_hand_landmarks else np.zeros(63)\n",
    "\n",
    "    return np.concatenate([pose, rosto, esquerda, direita])"
   ]
  },
  {
   "cell_type": "code",
   "execution_count": 6,
   "metadata": {},
   "outputs": [],
   "source": [
    "# Caminho para exportar os dados, arrays NumPy\n",
    "CAMINHO_DADOS = os.path.join('Dados_MP')\n",
    "\n",
    "# Ações que queremos que sejam detecdadas\n",
    "acoes = np.array(['ola', 'obrigado', 'amo voce'])\n",
    "\n",
    "# Quantidade de sequências de vídeos que queremos capturar\n",
    "num_videos = 30\n",
    "\n",
    "# Quantidade de frames capturadas\n",
    "num_frames = 30"
   ]
  },
  {
   "cell_type": "code",
   "execution_count": 7,
   "metadata": {},
   "outputs": [],
   "source": [
    "from sklearn.model_selection import train_test_split\n",
    "from tensorflow.keras.utils import to_categorical"
   ]
  },
  {
   "cell_type": "code",
   "execution_count": 8,
   "metadata": {},
   "outputs": [],
   "source": [
    "mapa_rotulos = {rotulo: num for num, rotulo in enumerate(acoes)}"
   ]
  },
  {
   "cell_type": "code",
   "execution_count": 9,
   "metadata": {},
   "outputs": [],
   "source": [
    "videos, rotulos = [], []\n",
    "for acao in acoes:\n",
    "    for video in range(num_videos):\n",
    "        tela = []\n",
    "        for frame_num in range(num_frames):\n",
    "            res = np.load(os.path.join(CAMINHO_DADOS, acao, str(video), f'{frame_num}.npy'))\n",
    "            tela.append(res)\n",
    "        videos.append(tela)\n",
    "        rotulos.append(mapa_rotulos[acao])"
   ]
  },
  {
   "cell_type": "code",
   "execution_count": 10,
   "metadata": {},
   "outputs": [],
   "source": [
    "X = np.array(videos)\n",
    "y = to_categorical(rotulos).astype(int)"
   ]
  },
  {
   "cell_type": "code",
   "execution_count": 11,
   "metadata": {},
   "outputs": [],
   "source": [
    "X_treino, X_teste, y_treino, y_teste = train_test_split(X, y, test_size=0.05)"
   ]
  },
  {
   "cell_type": "code",
   "execution_count": 12,
   "metadata": {},
   "outputs": [],
   "source": [
    "from tensorflow.keras.models import Sequential\n",
    "from tensorflow.keras.layers import LSTM, Dense\n",
    "from tensorflow.keras.callbacks import TensorBoard"
   ]
  },
  {
   "cell_type": "code",
   "execution_count": 13,
   "metadata": {},
   "outputs": [],
   "source": [
    "modelo = Sequential()\n",
    "modelo.add(LSTM(64, return_sequences=True, activation='relu', input_shape=(30, 1662)))\n",
    "modelo.add(LSTM(128, return_sequences=True, activation='relu'))\n",
    "modelo.add(LSTM(64, return_sequences=False, activation='relu'))\n",
    "\n",
    "modelo.add(Dense(64, activation='relu'))\n",
    "modelo.add(Dense(32, activation='relu'))\n",
    "modelo.add(Dense(acoes.shape[0], activation='softmax'))"
   ]
  },
  {
   "cell_type": "code",
   "execution_count": 14,
   "metadata": {},
   "outputs": [],
   "source": [
    "modelo.compile(optimizer='Adam', loss='categorical_crossentropy', metrics=['categorical_accuracy'])"
   ]
  },
  {
   "cell_type": "code",
   "execution_count": 15,
   "metadata": {},
   "outputs": [],
   "source": [
    "modelo.load_weights('modelo_acao.h5')"
   ]
  },
  {
   "cell_type": "code",
   "execution_count": 16,
   "metadata": {},
   "outputs": [],
   "source": [
    "cores = [(245, 117, 16), (117, 245, 16), (16, 117, 245)]\n",
    "def visuzalizar_probabilidades(res, acoes, frame_entrada, cores):\n",
    "    frame_saida = frame_entrada.copy()\n",
    "    for num, probabilidade in enumerate(res):\n",
    "        cv2.rectangle(frame_saida, (0, 60+num*40), (int(probabilidade*100), 90+num*40), cores[num], -1)\n",
    "        cv2.putText(frame_saida, acoes[num], (0, 85+num*40), cv2.FONT_HERSHEY_SIMPLEX, 1, (255, 255, 255), 2, cv2.LINE_AA)\n",
    "    \n",
    "    return frame_saida"
   ]
  },
  {
   "cell_type": "code",
   "execution_count": 17,
   "metadata": {},
   "outputs": [],
   "source": [
    "# 1. Novas variáveis de detecção\n",
    "sequencias = []\n",
    "sentencas = []\n",
    "previsoes = []\n",
    "limite = 0.7\n",
    "\n",
    "cap = cv2.VideoCapture(0)\n",
    "\n",
    "# Iniciar o modelo mediapipe\n",
    "with mp_holistico.Holistic(min_detection_confidence=0.5, min_tracking_confidence=0.5) as holistico:\n",
    "    while cap.isOpened():\n",
    "        # Ler o que a câmera está captando\n",
    "        ret, frame = cap.read()\n",
    "\n",
    "        # Fazer as detecções\n",
    "        imagem, resultados = deteccao_mediapipe(frame, holistico)\n",
    "        \n",
    "        # Desenhar landmarks\n",
    "        desenhar_landmarks(imagem, resultados)\n",
    "        \n",
    "        # 2. Lógica de previsão\n",
    "        pontos_chaves = extrair_pontos_chaves(resultados)\n",
    "        sequencias.append(pontos_chaves)\n",
    "        sequencia = sequencias[-30:]\n",
    "        \n",
    "        if len(sequencia) == 30:\n",
    "            res = modelo.predict(np.expand_dims(sequencia, axis=0))[0]\n",
    "            previsoes.append(np.argmax(res))\n",
    "            \n",
    "        # 3. Lógica de visualização\n",
    "            if np.unique(previsoes[-10:])[0] == np.argmax(res):\n",
    "                if res[np.argmax(res)] > limite:\n",
    "                    if len(sentencas) > 0:\n",
    "                        if acoes[np.argmax(res)] != sentencas[-1]:\n",
    "                            sentencas.append(acoes[np.argmax(res)])\n",
    "                    else:\n",
    "                        sentencas.append(acoes[np.argmax(res)])\n",
    "\n",
    "            if len(sentencas) > 5:\n",
    "                sentencas = sentencas[-5:]\n",
    "\n",
    "            # Visualizar da forma com probabilidade as ações\n",
    "            imagem = visuzalizar_probabilidades(res, acoes, imagem, cores)\n",
    "            \n",
    "        # Visualizar da forma escrita as ações\n",
    "        cv2.rectangle(imagem, (0, 0), (640, 40), (245, 117, 16), -1)\n",
    "        cv2.putText(imagem, ' '.join(sentencas), (3, 30),\n",
    "                   cv2.FONT_HERSHEY_SIMPLEX, 1, (255, 255, 255), 2, cv2.LINE_AA)\n",
    "            \n",
    "\n",
    "        # Mostrar na tela\n",
    "        cv2.imshow('Tela OpenCV', imagem)\n",
    "\n",
    "        # Encerrar o loop\n",
    "        if cv2.waitKey(10) & 0XFF == ord('s'):\n",
    "            break\n",
    "    cap.release()\n",
    "    cv2.destroyAllWindows()"
   ]
  }
 ],
 "metadata": {
  "kernelspec": {
   "display_name": "Python 3",
   "language": "python",
   "name": "python3"
  },
  "language_info": {
   "codemirror_mode": {
    "name": "ipython",
    "version": 3
   },
   "file_extension": ".py",
   "mimetype": "text/x-python",
   "name": "python",
   "nbconvert_exporter": "python",
   "pygments_lexer": "ipython3",
   "version": "3.8.5"
  }
 },
 "nbformat": 4,
 "nbformat_minor": 4
}
